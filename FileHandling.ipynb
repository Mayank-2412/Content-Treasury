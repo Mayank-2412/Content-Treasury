{
  "nbformat": 4,
  "nbformat_minor": 0,
  "metadata": {
    "colab": {
      "provenance": [],
      "authorship_tag": "ABX9TyNJYZj/rjE3jnp30ON5P/tU",
      "include_colab_link": true
    },
    "kernelspec": {
      "name": "python3",
      "display_name": "Python 3"
    },
    "language_info": {
      "name": "python"
    }
  },
  "cells": [
    {
      "cell_type": "markdown",
      "metadata": {
        "id": "view-in-github",
        "colab_type": "text"
      },
      "source": [
        "<a href=\"https://colab.research.google.com/github/Mayank-2412/Content-Treasury/blob/main/FileHandling.ipynb\" target=\"_parent\"><img src=\"https://colab.research.google.com/assets/colab-badge.svg\" alt=\"Open In Colab\"/></a>"
      ]
    },
    {
      "cell_type": "markdown",
      "source": [
        "#---------- FILE HANDLING ----------"
      ],
      "metadata": {
        "id": "o9IzAH4U-4VG"
      }
    },
    {
      "cell_type": "markdown",
      "source": [
        "## What is Directory?\n",
        "* A directory is a collection of files and subdirectories. A directory inside a directory is known as a subdirectory. A file is some information or data which stays in the computer storage devices."
      ],
      "metadata": {
        "id": "c8QyOw2w-8DX"
      }
    },
    {
      "cell_type": "markdown",
      "source": [
        "## File Handling:\n",
        "* The key function working with files is open() function.\n",
        "The open() function takes two parameters, filename and mode(method).\n",
        "\n",
        "* There are 4 modes we have:\n",
        "* 1. - \"r\"(read) - to read the file\n",
        "* 2. - \"a\"(append) - to add something in file\n",
        "* 3. - \"w\"(write) - to write something in a file\n",
        "* 4. - \"x\"(create) - creates the specific file\n"
      ],
      "metadata": {
        "id": "kmZNHu-M_hrI"
      }
    },
    {
      "cell_type": "markdown",
      "source": [
        "# 1. How to open and read a  file"
      ],
      "metadata": {
        "id": "rTXB7lcFBJUU"
      }
    },
    {
      "cell_type": "code",
      "source": [
        "f = open(\"sample.txt\", \"r\")\n",
        "print(f.read())"
      ],
      "metadata": {
        "id": "fOTQffxFBtz3"
      },
      "execution_count": null,
      "outputs": []
    },
    {
      "cell_type": "markdown",
      "source": [
        "##1.1 If file is stored in another directory"
      ],
      "metadata": {
        "id": "3RD0s_LFB8HS"
      }
    },
    {
      "cell_type": "code",
      "source": [
        "f = open(\"/content/sample.txt\",\"r\")\n",
        "print(f.read())"
      ],
      "metadata": {
        "colab": {
          "base_uri": "https://localhost:8080/"
        },
        "id": "irmhbPnLCHew",
        "outputId": "083add45-3db8-400c-8a5e-589e96a84376"
      },
      "execution_count": null,
      "outputs": [
        {
          "output_type": "stream",
          "name": "stdout",
          "text": [
            "Add this line \n",
            " \n"
          ]
        }
      ]
    },
    {
      "cell_type": "markdown",
      "source": [
        "## 1.2 readline function:\n",
        "* This function is used to read only single line"
      ],
      "metadata": {
        "id": "kicAp_hFDqKu"
      }
    },
    {
      "cell_type": "code",
      "source": [
        "f = open(\"/content/sample.txt\",\"r\")\n",
        "print(f.readline())"
      ],
      "metadata": {
        "colab": {
          "base_uri": "https://localhost:8080/"
        },
        "id": "hv9ErZxkDmyJ",
        "outputId": "3bc36ebc-2222-47ee-85b5-932c7e1b511d"
      },
      "execution_count": null,
      "outputs": [
        {
          "output_type": "stream",
          "name": "stdout",
          "text": [
            "Add this line \n",
            "\n"
          ]
        }
      ]
    },
    {
      "cell_type": "markdown",
      "source": [
        "##1.3 Close function:\n",
        "* The close() function is used to close the opened file"
      ],
      "metadata": {
        "id": "HxgXRG1QD6QW"
      }
    },
    {
      "cell_type": "code",
      "source": [
        "f.close()"
      ],
      "metadata": {
        "id": "Tg0YvdaRDojd"
      },
      "execution_count": null,
      "outputs": []
    },
    {
      "cell_type": "markdown",
      "source": [],
      "metadata": {
        "id": "nXoPX4f9EDnh"
      }
    },
    {
      "cell_type": "code",
      "source": [
        "f = open(\"/content/sample.txt\",\"r\")\n",
        "print(f.read())"
      ],
      "metadata": {
        "colab": {
          "base_uri": "https://localhost:8080/"
        },
        "id": "TOwZes5vEBoJ",
        "outputId": "940e2c9c-eda7-4e44-9c78-7b56a72a2ff7"
      },
      "execution_count": null,
      "outputs": [
        {
          "output_type": "stream",
          "name": "stdout",
          "text": [
            "Hello guys, this is an example of an File Handling functions.\n",
            "This is open file function.\n",
            " \n"
          ]
        }
      ]
    },
    {
      "cell_type": "markdown",
      "source": [
        "##1.4 create new file"
      ],
      "metadata": {
        "id": "77TyCX9BFLPp"
      }
    },
    {
      "cell_type": "code",
      "source": [
        "f = open(\"file1.txt\",\"x\")"
      ],
      "metadata": {
        "id": "TcJSgpoOEm-j"
      },
      "execution_count": 2,
      "outputs": []
    },
    {
      "cell_type": "markdown",
      "source": [
        "##1.5 Delete a File"
      ],
      "metadata": {
        "id": "CDa48y8ssFQD"
      }
    },
    {
      "cell_type": "code",
      "source": [
        "import os\n",
        "os.remove(\"file1.txt\")"
      ],
      "metadata": {
        "id": "lBgfOYVYFT2m"
      },
      "execution_count": 3,
      "outputs": []
    },
    {
      "cell_type": "code",
      "source": [
        "import os\n",
        "if os.path.exists(\"file1.txt\"):\n",
        "  os.remove(\"file1.txt\")\n",
        "else:\n",
        "  print(\"The file does not exist\")"
      ],
      "metadata": {
        "colab": {
          "base_uri": "https://localhost:8080/"
        },
        "id": "Q3Dh7obusLm6",
        "outputId": "194a18dd-657f-4d45-e977-9d6c7de058c2"
      },
      "execution_count": 4,
      "outputs": [
        {
          "output_type": "stream",
          "name": "stdout",
          "text": [
            "The file does not exist\n"
          ]
        }
      ]
    },
    {
      "cell_type": "markdown",
      "source": [
        "#2. How to write content in File"
      ],
      "metadata": {
        "id": "OnQc-WNOt9yl"
      }
    },
    {
      "cell_type": "code",
      "source": [
        "# Create a new file\n",
        "f = open(\"file1.txt\",\"x\")\n",
        "\n",
        "# Write content in file\n",
        "f.write(\"This is new file that i've created\")\n",
        "\n",
        "# Close the file\n",
        "f.close()"
      ],
      "metadata": {
        "id": "f5eAtZ-auBAe"
      },
      "execution_count": 5,
      "outputs": []
    },
    {
      "cell_type": "code",
      "source": [
        "f = open(\"file1.txt\",\"r\")\n",
        "print(f.read())"
      ],
      "metadata": {
        "colab": {
          "base_uri": "https://localhost:8080/"
        },
        "id": "SF_4P9NguIkb",
        "outputId": "8b3aa814-bd5d-495e-f7f6-8240ad9a8ae5"
      },
      "execution_count": 6,
      "outputs": [
        {
          "output_type": "stream",
          "name": "stdout",
          "text": [
            "This is new file that i've created\n"
          ]
        }
      ]
    },
    {
      "cell_type": "code",
      "source": [],
      "metadata": {
        "id": "QNZISabtuKkB"
      },
      "execution_count": null,
      "outputs": []
    }
  ]
}